{
 "cells": [
  {
   "cell_type": "code",
   "execution_count": 1,
   "metadata": {},
   "outputs": [],
   "source": [
    "import main\n",
    "%load_ext autoreload\n",
    "%autoreload 2"
   ]
  },
  {
   "cell_type": "code",
   "execution_count": 2,
   "metadata": {},
   "outputs": [],
   "source": [
    "pepe=main.cliente(dni=1)"
   ]
  },
  {
   "cell_type": "code",
   "execution_count": 3,
   "metadata": {},
   "outputs": [],
   "source": [
    "pepe.modificarcategoria('preferencial')\n"
   ]
  },
  {
   "cell_type": "code",
   "execution_count": 4,
   "metadata": {},
   "outputs": [
    {
     "data": {
      "text/plain": [
       "'preferencial'"
      ]
     },
     "execution_count": 4,
     "metadata": {},
     "output_type": "execute_result"
    }
   ],
   "source": [
    "pepe.categoria"
   ]
  },
  {
   "cell_type": "code",
   "execution_count": 5,
   "metadata": {},
   "outputs": [],
   "source": [
    "filapreferencial=main.FilaPreferencial()"
   ]
  },
  {
   "cell_type": "code",
   "execution_count": 6,
   "metadata": {},
   "outputs": [
    {
     "data": {
      "text/plain": [
       "[]"
      ]
     },
     "execution_count": 6,
     "metadata": {},
     "output_type": "execute_result"
    }
   ],
   "source": [
    "filapreferencial.fila\n"
   ]
  },
  {
   "cell_type": "code",
   "execution_count": 29,
   "metadata": {},
   "outputs": [],
   "source": [
    "filapreferencial.insertar(pepe)"
   ]
  },
  {
   "cell_type": "code",
   "execution_count": 30,
   "metadata": {},
   "outputs": [
    {
     "data": {
      "text/plain": [
       "[<main.cliente at 0x146d984f49b0>,\n",
       " <main.cliente at 0x146d984f49b0>,\n",
       " <main.cliente at 0x146d984f49b0>,\n",
       " <main.cliente at 0x146d984f49b0>,\n",
       " <main.cliente at 0x146d984f49b0>,\n",
       " <main.cliente at 0x146d984f49b0>,\n",
       " <main.cliente at 0x146d984f49b0>,\n",
       " <main.cliente at 0x146d984f49b0>,\n",
       " <main.cliente at 0x146d984f49b0>]"
      ]
     },
     "execution_count": 30,
     "metadata": {},
     "output_type": "execute_result"
    }
   ],
   "source": [
    "filapreferencial.fila"
   ]
  },
  {
   "cell_type": "code",
   "execution_count": 15,
   "metadata": {},
   "outputs": [],
   "source": [
    "filapreferencial.atender()"
   ]
  },
  {
   "cell_type": "code",
   "execution_count": 16,
   "metadata": {},
   "outputs": [
    {
     "data": {
      "text/plain": [
       "[<main.cliente at 0x146d984f49b0>,\n",
       " <main.cliente at 0x146d984f49b0>,\n",
       " <main.cliente at 0x146d984f49b0>,\n",
       " <main.cliente at 0x146d984f49b0>,\n",
       " <main.cliente at 0x146d984f49b0>,\n",
       " <main.cliente at 0x146d984f49b0>]"
      ]
     },
     "execution_count": 16,
     "metadata": {},
     "output_type": "execute_result"
    }
   ],
   "source": [
    "filapreferencial.fila"
   ]
  },
  {
   "cell_type": "code",
   "execution_count": 31,
   "metadata": {},
   "outputs": [],
   "source": [
    "filapreferencial2=main.FilaPreferencial()"
   ]
  },
  {
   "cell_type": "code",
   "execution_count": 32,
   "metadata": {},
   "outputs": [],
   "source": [
    "filapreferencial.abrircajanueva(4,filapreferencial2)"
   ]
  },
  {
   "cell_type": "code",
   "execution_count": 33,
   "metadata": {},
   "outputs": [
    {
     "data": {
      "text/plain": [
       "[<main.cliente at 0x146d984f49b0>,\n",
       " <main.cliente at 0x146d984f49b0>,\n",
       " <main.cliente at 0x146d984f49b0>,\n",
       " <main.cliente at 0x146d984f49b0>,\n",
       " <main.cliente at 0x146d984f49b0>]"
      ]
     },
     "execution_count": 33,
     "metadata": {},
     "output_type": "execute_result"
    }
   ],
   "source": [
    "filapreferencial.fila"
   ]
  },
  {
   "cell_type": "code",
   "execution_count": 34,
   "metadata": {},
   "outputs": [
    {
     "data": {
      "text/plain": [
       "[<main.cliente at 0x146d984f49b0>,\n",
       " <main.cliente at 0x146d984f49b0>,\n",
       " <main.cliente at 0x146d984f49b0>,\n",
       " <main.cliente at 0x146d984f49b0>]"
      ]
     },
     "execution_count": 34,
     "metadata": {},
     "output_type": "execute_result"
    }
   ],
   "source": [
    "filapreferencial2.fila"
   ]
  },
  {
   "cell_type": "code",
   "execution_count": null,
   "metadata": {},
   "outputs": [],
   "source": []
  }
 ],
 "metadata": {
  "kernelspec": {
   "display_name": "Python 3",
   "language": "python",
   "name": "python3"
  },
  "language_info": {
   "codemirror_mode": {
    "name": "ipython",
    "version": 3
   },
   "file_extension": ".py",
   "mimetype": "text/x-python",
   "name": "python",
   "nbconvert_exporter": "python",
   "pygments_lexer": "ipython3",
   "version": "3.7.3"
  }
 },
 "nbformat": 4,
 "nbformat_minor": 2
}
